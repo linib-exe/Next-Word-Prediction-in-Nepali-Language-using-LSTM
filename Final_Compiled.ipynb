{
  "nbformat": 4,
  "nbformat_minor": 0,
  "metadata": {
    "colab": {
      "provenance": []
    },
    "kernelspec": {
      "name": "python3",
      "display_name": "Python 3"
    },
    "language_info": {
      "name": "python"
    }
  },
  "cells": [
    {
      "cell_type": "code",
      "execution_count": 1,
      "metadata": {
        "id": "Nl8iTsFrM4nX"
      },
      "outputs": [],
      "source": [
        "import numpy as np\n",
        "import tensorflow as tf\n",
        "from tensorflow.keras.preprocessing.text import Tokenizer\n",
        "from tensorflow.keras.preprocessing.sequence import pad_sequences\n",
        "from tensorflow.keras.models import Sequential\n",
        "from tensorflow.keras.layers import Embedding, LSTM, Dense\n",
        "from tensorflow.keras.utils import to_categorical\n",
        "import pandas as pd\n",
        "from tensorflow.keras.models import load_model\n",
        "from sklearn.model_selection import train_test_split\n",
        "from sklearn.metrics import precision_score, recall_score, f1_score, accuracy_score\n",
        "import math\n",
        "from nltk.translate.bleu_score import corpus_bleu\n",
        "from tensorflow.keras.utils import to_categorical\n",
        "from sklearn.metrics import top_k_accuracy_score\n",
        "import matplotlib.pyplot as plt\n",
        "from tensorflow.keras.utils import plot_model\n",
        "from sklearn.metrics import precision_recall_fscore_support\n",
        "import matplotlib.pyplot as plt"
      ]
    },
    {
      "cell_type": "code",
      "source": [
        "# Load the model before making predictions\n",
        "model = load_model('nepali_language_model.h5')"
      ],
      "metadata": {
        "colab": {
          "base_uri": "https://localhost:8080/"
        },
        "id": "CaFMIe-WM-pC",
        "outputId": "0564107e-c9d3-4ce7-fb6d-29753113f4fb"
      },
      "execution_count": 3,
      "outputs": [
        {
          "output_type": "stream",
          "name": "stderr",
          "text": [
            "WARNING:absl:Compiled the loaded model, but the compiled metrics have yet to be built. `model.compile_metrics` will be empty until you train or evaluate the model.\n"
          ]
        }
      ]
    },
    {
      "cell_type": "code",
      "source": [
        "#Version 2\n",
        "def predict_next_words(model, tokenizer, text, max_sequence_len, top_n=3):\n",
        "    # Start with the seed text\n",
        "    token_list = tokenizer.texts_to_sequences([text])[0]\n",
        "    token_list = pad_sequences([token_list], maxlen=max_sequence_len - 1, padding='pre')\n",
        "\n",
        "    # Predict the next word probabilities\n",
        "    predicted_probs = model.predict(token_list, verbose=0)\n",
        "\n",
        "    # Get the indices of the top N words with the highest probability\n",
        "    predicted_word_indices = np.argsort(predicted_probs[0])[::-1][:top_n]\n",
        "\n",
        "    # Map the predicted indices back to words\n",
        "    predicted_words = []\n",
        "    for index in predicted_word_indices:\n",
        "        for word, idx in tokenizer.word_index.items():\n",
        "            if idx == index:\n",
        "                predicted_words.append(word)\n",
        "                break\n",
        "\n",
        "    return predicted_words\n"
      ],
      "metadata": {
        "id": "0ozd6iv5NCrE"
      },
      "execution_count": 4,
      "outputs": []
    },
    {
      "cell_type": "code",
      "source": [
        "import pickle\n",
        "\n",
        "# Load the tokenizer from the file\n",
        "with open('tokenizer.pkl', 'rb') as file:\n",
        "    tokenizer = pickle.load(file)\n",
        "\n",
        "print(\"Tokenizer loaded successfully!\")\n"
      ],
      "metadata": {
        "colab": {
          "base_uri": "https://localhost:8080/"
        },
        "id": "OJcSy41UNfte",
        "outputId": "241876fa-1cf2-47c7-8d64-d46e1e7cf0de"
      },
      "execution_count": 10,
      "outputs": [
        {
          "output_type": "stream",
          "name": "stdout",
          "text": [
            "Tokenizer loaded successfully!\n"
          ]
        }
      ]
    },
    {
      "cell_type": "code",
      "source": [
        "#Version 2\n",
        "def predict_while_typing():\n",
        "    sentence = \"\"\n",
        "    print(\"Start typing (Type 'q' to quit): \")\n",
        "\n",
        "    while True:\n",
        "        # Take the user input (next word)\n",
        "        input_text = input(\"Type next word: \")\n",
        "\n",
        "        # Exit condition\n",
        "        if input_text.lower() == 'q':\n",
        "            break\n",
        "\n",
        "        # Add typed input to the sentence\n",
        "        sentence += \" \" + input_text\n",
        "\n",
        "        # Predict the next words based on the current sentence\n",
        "        predicted_words = predict_next_words(model, tokenizer, sentence, 12, top_n=3)\n",
        "\n",
        "        # Display the predicted words and ask for the user's choice\n",
        "        print(f\"Predicted words:\")\n",
        "        for i, word in enumerate(predicted_words, 1):\n",
        "            print(f\"{i}. {word}\")\n",
        "\n",
        "        # Ask the user to select a word\n",
        "        try:\n",
        "            choice = int(input(f\"Choose a word by number (1, 2, or 3): \"))\n",
        "\n",
        "            if choice not in [1, 2, 3]:\n",
        "                print(\"Invalid choice. Please choose 1, 2, or 3.\")\n",
        "                continue  # Skip this loop iteration and let the user try again\n",
        "\n",
        "            # Add the chosen word to the sentence\n",
        "            sentence += \" \" + predicted_words[choice - 1]\n",
        "\n",
        "        except ValueError:\n",
        "            print(\"Please enter a valid number (1, 2, or 3).\")\n",
        "            continue  # Skip this loop iteration and let the user try again\n",
        "\n",
        "        # Display the current sentence (typed + predicted)\n",
        "        print(f\"Current sentence: {sentence}\")\n",
        "\n",
        "# Run the real-time prediction\n",
        "predict_while_typing()\n"
      ],
      "metadata": {
        "colab": {
          "base_uri": "https://localhost:8080/"
        },
        "id": "KjnGJKwCNKiB",
        "outputId": "d7974fe6-69d3-469a-86b3-6d829d274f96"
      },
      "execution_count": 11,
      "outputs": [
        {
          "name": "stdout",
          "output_type": "stream",
          "text": [
            "Start typing (Type 'q' to quit): \n",
            "Type next word: यस प्रोजेक्टको\n",
            "Predicted words:\n",
            "1. लागि\n",
            "2. धेरै\n",
            "3. हामीले\n",
            "Choose a word by number (1, 2, or 3): 1\n",
            "Current sentence:  यस प्रोजेक्टको लागि\n",
            "Type next word: हामीले धेरै मेहनत\n",
            "Predicted words:\n",
            "1. गर्नुपर्‍यो।\n",
            "2. मेहनत\n",
            "3. यसलाई\n",
            "Choose a word by number (1, 2, or 3): 1\n",
            "Current sentence:  यस प्रोजेक्टको लागि हामीले धेरै मेहनत गर्नुपर्‍यो।\n",
            "Type next word: q\n"
          ]
        }
      ]
    },
    {
      "cell_type": "code",
      "source": [],
      "metadata": {
        "id": "bjLND-OaNNpc"
      },
      "execution_count": null,
      "outputs": []
    }
  ]
}