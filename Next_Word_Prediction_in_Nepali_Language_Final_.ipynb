{
  "nbformat": 4,
  "nbformat_minor": 0,
  "metadata": {
    "colab": {
      "provenance": []
    },
    "kernelspec": {
      "name": "python3",
      "display_name": "Python 3"
    },
    "language_info": {
      "name": "python"
    }
  },
  "cells": [
    {
      "cell_type": "markdown",
      "source": [
        "Necessary Imports"
      ],
      "metadata": {
        "id": "j6ZGL6vvopt_"
      }
    },
    {
      "cell_type": "code",
      "execution_count": 39,
      "metadata": {
        "id": "Mwe4sc7jodyv"
      },
      "outputs": [],
      "source": [
        "import numpy as np\n",
        "import tensorflow as tf\n",
        "from tensorflow.keras.preprocessing.text import Tokenizer\n",
        "from tensorflow.keras.preprocessing.sequence import pad_sequences\n",
        "from tensorflow.keras.models import Sequential\n",
        "from tensorflow.keras.layers import Embedding, LSTM, Dense\n",
        "from tensorflow.keras.utils import to_categorical\n",
        "import pandas as pd\n",
        "from tensorflow.keras.models import load_model"
      ]
    },
    {
      "cell_type": "markdown",
      "source": [
        "Load the Dataset"
      ],
      "metadata": {
        "id": "jLCm-UVTpKnC"
      }
    },
    {
      "cell_type": "code",
      "source": [
        "df = pd.read_csv(\"/content/nepali_sentences.csv\")\n",
        "faqs = df['Sentence'].astype(str).tolist()"
      ],
      "metadata": {
        "id": "rTB17mIoouor"
      },
      "execution_count": 40,
      "outputs": []
    },
    {
      "cell_type": "markdown",
      "source": [
        "Tokenize Text"
      ],
      "metadata": {
        "id": "9FFrSlbDppaU"
      }
    },
    {
      "cell_type": "code",
      "source": [
        "# Initialize the tokenizer\n",
        "tokenizer = Tokenizer()\n",
        "tokenizer.fit_on_texts(faqs)  # We directly fit the tokenizer on the list\n",
        "total_words = len(tokenizer.word_index) + 1  # +1 for the padding token\n",
        "\n",
        "# Convert the text into sequences of tokens\n",
        "input_sequences = []\n",
        "for line in faqs:  # Loop over the list directly\n",
        "    token_list = tokenizer.texts_to_sequences([line])[0]\n",
        "    for i in range(1, len(token_list)):\n",
        "        n_gram_sequence = token_list[:i + 1]\n",
        "        input_sequences.append(n_gram_sequence)"
      ],
      "metadata": {
        "id": "2ZnprPQEpRUZ"
      },
      "execution_count": 41,
      "outputs": []
    },
    {
      "cell_type": "markdown",
      "source": [
        "Pad sequences to have uniform length"
      ],
      "metadata": {
        "id": "IKhDtw6Bqqe5"
      }
    },
    {
      "cell_type": "code",
      "source": [
        "max_sequence_len = max([len(seq) for seq in input_sequences])\n",
        "input_sequences = pad_sequences(input_sequences, maxlen=max_sequence_len, padding='pre')"
      ],
      "metadata": {
        "id": "upXDhL_Spt-P"
      },
      "execution_count": 42,
      "outputs": []
    },
    {
      "cell_type": "markdown",
      "source": [
        "Split data into predictors (X) and label (y)"
      ],
      "metadata": {
        "id": "d96Y98W5qzl8"
      }
    },
    {
      "cell_type": "code",
      "source": [
        "X = input_sequences[:, :-1]\n",
        "y = input_sequences[:, -1]\n",
        "y = to_categorical(y, num_classes=total_words)"
      ],
      "metadata": {
        "id": "-YS8k2ztquEk"
      },
      "execution_count": 43,
      "outputs": []
    },
    {
      "cell_type": "markdown",
      "source": [
        "Build the LSTM model"
      ],
      "metadata": {
        "id": "oaKq_eGHq8Ih"
      }
    },
    {
      "cell_type": "code",
      "source": [
        "model = Sequential()\n",
        "model.add(Embedding(total_words, 100, input_length=max_sequence_len - 1))\n",
        "model.add(LSTM(150))\n",
        "model.add(Dense(total_words, activation='softmax'))"
      ],
      "metadata": {
        "colab": {
          "base_uri": "https://localhost:8080/"
        },
        "id": "ec1WlZw_q18c",
        "outputId": "f7d6e54d-de17-4986-a985-35cee74306ac"
      },
      "execution_count": 44,
      "outputs": [
        {
          "output_type": "stream",
          "name": "stderr",
          "text": [
            "/usr/local/lib/python3.10/dist-packages/keras/src/layers/core/embedding.py:90: UserWarning: Argument `input_length` is deprecated. Just remove it.\n",
            "  warnings.warn(\n"
          ]
        }
      ]
    },
    {
      "cell_type": "markdown",
      "source": [
        "Compile the model"
      ],
      "metadata": {
        "id": "Qp3SicawrEkZ"
      }
    },
    {
      "cell_type": "code",
      "source": [
        "model.compile(loss='categorical_crossentropy', optimizer='adam', metrics=['accuracy'])"
      ],
      "metadata": {
        "id": "__0-FeZXq9wC"
      },
      "execution_count": 45,
      "outputs": []
    },
    {
      "cell_type": "markdown",
      "source": [
        "Train the model"
      ],
      "metadata": {
        "id": "B6RiDsh_rOcZ"
      }
    },
    {
      "cell_type": "code",
      "source": [
        "history = model.fit(X, y, epochs=20, verbose=1)\n",
        "# Save the model after training\n",
        "model.save('nepali_language_model.h5')"
      ],
      "metadata": {
        "colab": {
          "base_uri": "https://localhost:8080/"
        },
        "id": "XReKNcvLrF-S",
        "outputId": "269d49dd-9e3c-4090-ce55-5ce00667675f"
      },
      "execution_count": 46,
      "outputs": [
        {
          "output_type": "stream",
          "name": "stdout",
          "text": [
            "Epoch 1/20\n",
            "\u001b[1m301/301\u001b[0m \u001b[32m━━━━━━━━━━━━━━━━━━━━\u001b[0m\u001b[37m\u001b[0m \u001b[1m9s\u001b[0m 22ms/step - accuracy: 0.0646 - loss: 5.2256\n",
            "Epoch 2/20\n",
            "\u001b[1m301/301\u001b[0m \u001b[32m━━━━━━━━━━━━━━━━━━━━\u001b[0m\u001b[37m\u001b[0m \u001b[1m8s\u001b[0m 27ms/step - accuracy: 0.3999 - loss: 2.7069\n",
            "Epoch 3/20\n",
            "\u001b[1m301/301\u001b[0m \u001b[32m━━━━━━━━━━━━━━━━━━━━\u001b[0m\u001b[37m\u001b[0m \u001b[1m7s\u001b[0m 22ms/step - accuracy: 0.7705 - loss: 1.1307\n",
            "Epoch 4/20\n",
            "\u001b[1m301/301\u001b[0m \u001b[32m━━━━━━━━━━━━━━━━━━━━\u001b[0m\u001b[37m\u001b[0m \u001b[1m10s\u001b[0m 21ms/step - accuracy: 0.7943 - loss: 0.7267\n",
            "Epoch 5/20\n",
            "\u001b[1m301/301\u001b[0m \u001b[32m━━━━━━━━━━━━━━━━━━━━\u001b[0m\u001b[37m\u001b[0m \u001b[1m8s\u001b[0m 27ms/step - accuracy: 0.7894 - loss: 0.6535\n",
            "Epoch 6/20\n",
            "\u001b[1m301/301\u001b[0m \u001b[32m━━━━━━━━━━━━━━━━━━━━\u001b[0m\u001b[37m\u001b[0m \u001b[1m10s\u001b[0m 25ms/step - accuracy: 0.8000 - loss: 0.5966\n",
            "Epoch 7/20\n",
            "\u001b[1m301/301\u001b[0m \u001b[32m━━━━━━━━━━━━━━━━━━━━\u001b[0m\u001b[37m\u001b[0m \u001b[1m7s\u001b[0m 24ms/step - accuracy: 0.7907 - loss: 0.5937\n",
            "Epoch 8/20\n",
            "\u001b[1m301/301\u001b[0m \u001b[32m━━━━━━━━━━━━━━━━━━━━\u001b[0m\u001b[37m\u001b[0m \u001b[1m11s\u001b[0m 27ms/step - accuracy: 0.7963 - loss: 0.5657\n",
            "Epoch 9/20\n",
            "\u001b[1m301/301\u001b[0m \u001b[32m━━━━━━━━━━━━━━━━━━━━\u001b[0m\u001b[37m\u001b[0m \u001b[1m7s\u001b[0m 22ms/step - accuracy: 0.7939 - loss: 0.5717\n",
            "Epoch 10/20\n",
            "\u001b[1m301/301\u001b[0m \u001b[32m━━━━━━━━━━━━━━━━━━━━\u001b[0m\u001b[37m\u001b[0m \u001b[1m8s\u001b[0m 27ms/step - accuracy: 0.7902 - loss: 0.5663\n",
            "Epoch 11/20\n",
            "\u001b[1m301/301\u001b[0m \u001b[32m━━━━━━━━━━━━━━━━━━━━\u001b[0m\u001b[37m\u001b[0m \u001b[1m10s\u001b[0m 27ms/step - accuracy: 0.7988 - loss: 0.5608\n",
            "Epoch 12/20\n",
            "\u001b[1m301/301\u001b[0m \u001b[32m━━━━━━━━━━━━━━━━━━━━\u001b[0m\u001b[37m\u001b[0m \u001b[1m7s\u001b[0m 22ms/step - accuracy: 0.7937 - loss: 0.5675\n",
            "Epoch 13/20\n",
            "\u001b[1m301/301\u001b[0m \u001b[32m━━━━━━━━━━━━━━━━━━━━\u001b[0m\u001b[37m\u001b[0m \u001b[1m11s\u001b[0m 23ms/step - accuracy: 0.7946 - loss: 0.5531\n",
            "Epoch 14/20\n",
            "\u001b[1m301/301\u001b[0m \u001b[32m━━━━━━━━━━━━━━━━━━━━\u001b[0m\u001b[37m\u001b[0m \u001b[1m11s\u001b[0m 27ms/step - accuracy: 0.7908 - loss: 0.5712\n",
            "Epoch 15/20\n",
            "\u001b[1m301/301\u001b[0m \u001b[32m━━━━━━━━━━━━━━━━━━━━\u001b[0m\u001b[37m\u001b[0m \u001b[1m6s\u001b[0m 21ms/step - accuracy: 0.7950 - loss: 0.5558\n",
            "Epoch 16/20\n",
            "\u001b[1m301/301\u001b[0m \u001b[32m━━━━━━━━━━━━━━━━━━━━\u001b[0m\u001b[37m\u001b[0m \u001b[1m8s\u001b[0m 27ms/step - accuracy: 0.7866 - loss: 0.5725\n",
            "Epoch 17/20\n",
            "\u001b[1m301/301\u001b[0m \u001b[32m━━━━━━━━━━━━━━━━━━━━\u001b[0m\u001b[37m\u001b[0m \u001b[1m10s\u001b[0m 27ms/step - accuracy: 0.7982 - loss: 0.5531\n",
            "Epoch 18/20\n",
            "\u001b[1m301/301\u001b[0m \u001b[32m━━━━━━━━━━━━━━━━━━━━\u001b[0m\u001b[37m\u001b[0m \u001b[1m9s\u001b[0m 21ms/step - accuracy: 0.7904 - loss: 0.5653\n",
            "Epoch 19/20\n",
            "\u001b[1m301/301\u001b[0m \u001b[32m━━━━━━━━━━━━━━━━━━━━\u001b[0m\u001b[37m\u001b[0m \u001b[1m10s\u001b[0m 32ms/step - accuracy: 0.7974 - loss: 0.5481\n",
            "Epoch 20/20\n",
            "\u001b[1m301/301\u001b[0m \u001b[32m━━━━━━━━━━━━━━━━━━━━\u001b[0m\u001b[37m\u001b[0m \u001b[1m8s\u001b[0m 26ms/step - accuracy: 0.7939 - loss: 0.5612\n"
          ]
        },
        {
          "output_type": "stream",
          "name": "stderr",
          "text": [
            "WARNING:absl:You are saving your model as an HDF5 file via `model.save()` or `keras.saving.save_model(model)`. This file format is considered legacy. We recommend using instead the native Keras format, e.g. `model.save('my_model.keras')` or `keras.saving.save_model(model, 'my_model.keras')`. \n"
          ]
        }
      ]
    },
    {
      "cell_type": "code",
      "source": [
        "# Load the model before making predictions\n",
        "model = load_model('nepali_language_model.h5')"
      ],
      "metadata": {
        "colab": {
          "base_uri": "https://localhost:8080/"
        },
        "id": "1wCLF92-0CFy",
        "outputId": "7b390066-3550-4468-84e9-ae8804d8683b"
      },
      "execution_count": 47,
      "outputs": [
        {
          "output_type": "stream",
          "name": "stderr",
          "text": [
            "WARNING:absl:Compiled the loaded model, but the compiled metrics have yet to be built. `model.compile_metrics` will be empty until you train or evaluate the model.\n"
          ]
        }
      ]
    },
    {
      "cell_type": "markdown",
      "source": [
        "Next Word Prediction Function"
      ],
      "metadata": {
        "id": "2X00CPkIsGME"
      }
    },
    {
      "cell_type": "code",
      "source": [
        "#Version 1\n",
        "def predict_next_word(model, tokenizer, text, max_sequence_len):\n",
        "    # Start with the seed text\n",
        "    token_list = tokenizer.texts_to_sequences([text])[0]\n",
        "    token_list = pad_sequences([token_list], maxlen=max_sequence_len - 1, padding='pre')\n",
        "\n",
        "    # Predict the next word\n",
        "    predicted_probs = model.predict(token_list, verbose=0)\n",
        "    predicted_word_index = np.argmax(predicted_probs)\n",
        "\n",
        "    # Map the predicted index back to the corresponding word\n",
        "    predicted_word = \"\"\n",
        "    for word, index in tokenizer.word_index.items():\n",
        "        if index == predicted_word_index:\n",
        "            predicted_word = word\n",
        "            break\n",
        "\n",
        "    return predicted_word\n"
      ],
      "metadata": {
        "id": "Sh1cTKcYrPxU"
      },
      "execution_count": 48,
      "outputs": []
    },
    {
      "cell_type": "code",
      "source": [
        "#Version 2\n",
        "def predict_next_words(model, tokenizer, text, max_sequence_len, top_n=3):\n",
        "    # Start with the seed text\n",
        "    token_list = tokenizer.texts_to_sequences([text])[0]\n",
        "    token_list = pad_sequences([token_list], maxlen=max_sequence_len - 1, padding='pre')\n",
        "\n",
        "    # Predict the next word probabilities\n",
        "    predicted_probs = model.predict(token_list, verbose=0)\n",
        "\n",
        "    # Get the indices of the top N words with the highest probability\n",
        "    predicted_word_indices = np.argsort(predicted_probs[0])[::-1][:top_n]\n",
        "\n",
        "    # Map the predicted indices back to words\n",
        "    predicted_words = []\n",
        "    for index in predicted_word_indices:\n",
        "        for word, idx in tokenizer.word_index.items():\n",
        "            if idx == index:\n",
        "                predicted_words.append(word)\n",
        "                break\n",
        "\n",
        "    return predicted_words\n"
      ],
      "metadata": {
        "id": "sc-nZ7JRwG93"
      },
      "execution_count": 49,
      "outputs": []
    },
    {
      "cell_type": "markdown",
      "source": [
        "Real-time Prediction"
      ],
      "metadata": {
        "id": "TkVAzqBBsd2B"
      }
    },
    {
      "cell_type": "code",
      "source": [
        "# Version 1\n",
        "def predict_while_typing():\n",
        "    sentence = \"\"\n",
        "    print(\"Start typing (Type 'q' to quit): \")\n",
        "\n",
        "    while True:\n",
        "        # Take the user input (next word)\n",
        "        input_text = input(\"Type next word: \")\n",
        "\n",
        "        # Exit condition\n",
        "        if input_text.lower() == 'q':\n",
        "            break\n",
        "\n",
        "        # Add typed input to the sentence\n",
        "        sentence += \" \" + input_text\n",
        "\n",
        "        # Predict the next word based on the current sentence\n",
        "        predicted_word = predict_next_word(model, tokenizer, sentence, max_sequence_len)\n",
        "\n",
        "        # Add predicted word to the sentence\n",
        "        sentence += \" \" + predicted_word\n",
        "\n",
        "        # Display the current sentence (typed + predicted)\n",
        "        print(f\"Current sentence: {sentence}\")\n",
        "\n",
        "# Run the real-time prediction\n",
        "predict_while_typing()\n"
      ],
      "metadata": {
        "colab": {
          "base_uri": "https://localhost:8080/"
        },
        "id": "66nl9AcAsf_6",
        "outputId": "249b874d-849b-4f9f-9fe1-0dd11cf6c107"
      },
      "execution_count": 50,
      "outputs": [
        {
          "name": "stdout",
          "output_type": "stream",
          "text": [
            "Start typing (Type 'q' to quit): \n",
            "Type next word: q\n"
          ]
        }
      ]
    },
    {
      "cell_type": "code",
      "source": [
        "#Version 2\n",
        "def predict_while_typing():\n",
        "    sentence = \"\"\n",
        "    print(\"Start typing (Type 'q' to quit): \")\n",
        "\n",
        "    while True:\n",
        "        # Take the user input (next word)\n",
        "        input_text = input(\"Type next word: \")\n",
        "\n",
        "        # Exit condition\n",
        "        if input_text.lower() == 'q':\n",
        "            break\n",
        "\n",
        "        # Add typed input to the sentence\n",
        "        sentence += \" \" + input_text\n",
        "\n",
        "        # Predict the next words based on the current sentence\n",
        "        predicted_words = predict_next_words(model, tokenizer, sentence, max_sequence_len, top_n=3)\n",
        "\n",
        "        # Display the predicted words and ask for the user's choice\n",
        "        print(f\"Predicted words:\")\n",
        "        for i, word in enumerate(predicted_words, 1):\n",
        "            print(f\"{i}. {word}\")\n",
        "\n",
        "        # Ask the user to select a word\n",
        "        try:\n",
        "            choice = int(input(f\"Choose a word by number (1, 2, or 3): \"))\n",
        "\n",
        "            if choice not in [1, 2, 3]:\n",
        "                print(\"Invalid choice. Please choose 1, 2, or 3.\")\n",
        "                continue  # Skip this loop iteration and let the user try again\n",
        "\n",
        "            # Add the chosen word to the sentence\n",
        "            sentence += \" \" + predicted_words[choice - 1]\n",
        "\n",
        "        except ValueError:\n",
        "            print(\"Please enter a valid number (1, 2, or 3).\")\n",
        "            continue  # Skip this loop iteration and let the user try again\n",
        "\n",
        "        # Display the current sentence (typed + predicted)\n",
        "        print(f\"Current sentence: {sentence}\")\n",
        "\n",
        "# Run the real-time prediction\n",
        "predict_while_typing()\n"
      ],
      "metadata": {
        "colab": {
          "base_uri": "https://localhost:8080/"
        },
        "id": "0RrWquSUwe04",
        "outputId": "45d22147-fbeb-402a-b220-d17411bf26d9"
      },
      "execution_count": 51,
      "outputs": [
        {
          "name": "stdout",
          "output_type": "stream",
          "text": [
            "Start typing (Type 'q' to quit): \n",
            "Type next word: q\n"
          ]
        }
      ]
    },
    {
      "cell_type": "markdown",
      "source": [
        "Necessary Plots"
      ],
      "metadata": {
        "id": "fT-T6bK3syK-"
      }
    },
    {
      "cell_type": "code",
      "source": [
        "import matplotlib.pyplot as plt\n",
        "\n",
        "# Plot 1: Training Accuracy Graph\n",
        "def plot_accuracy(history):\n",
        "    plt.figure(figsize=(5, 3))\n",
        "    plt.plot(history.history['accuracy'], label='Training Accuracy')\n",
        "    plt.title('Training Accuracy over Epochs')\n",
        "    plt.xlabel('Epochs')\n",
        "    plt.ylabel('Accuracy')\n",
        "    plt.legend()\n",
        "    plt.grid()\n",
        "    plt.show()\n",
        "\n",
        "# Plot 2: Training Loss Graph\n",
        "def plot_loss(history):\n",
        "    plt.figure(figsize=(5, 3))\n",
        "    plt.plot(history.history['loss'], label='Training Loss')\n",
        "    plt.title('Training Loss over Epochs')\n",
        "    plt.xlabel('Epochs')\n",
        "    plt.ylabel('Loss')\n",
        "    plt.legend()\n",
        "    plt.grid()\n",
        "    plt.show()\n",
        "\n",
        "# Calling the functions to plot graphs\n",
        "plot_accuracy(history)\n",
        "plot_loss(history)\n"
      ],
      "metadata": {
        "colab": {
          "base_uri": "https://localhost:8080/",
          "height": 649
        },
        "id": "2plNc5_eszJz",
        "outputId": "df520c3c-5385-4fd6-a69e-c60c79cf1379"
      },
      "execution_count": 52,
      "outputs": [
        {
          "output_type": "display_data",
          "data": {
            "text/plain": [
              "<Figure size 500x300 with 1 Axes>"
            ],
            "image/png": "[encoded data removed]"
          },
          "metadata": {}
        },
        {
          "output_type": "display_data",
          "data": {
            "text/plain": [
              "<Figure size 500x300 with 1 Axes>"
            ],
            "image/png": "[encoded data removed]"
          },
          "metadata": {}
        }
      ]
    },
    {
      "cell_type": "code",
      "source": [],
      "metadata": {
        "id": "24nc3R5FtPXq"
      },
      "execution_count": 52,
      "outputs": []
    }
  ]
}